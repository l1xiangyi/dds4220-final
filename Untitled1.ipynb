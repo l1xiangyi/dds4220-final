{
 "cells": [
  {
   "cell_type": "code",
   "execution_count": 1,
   "id": "56226ae8",
   "metadata": {},
   "outputs": [
    {
     "name": "stdout",
     "output_type": "stream",
     "text": [
      "Requirement already satisfied: gluoncv in /opt/conda/lib/python3.10/site-packages (0.10.5.post0)\n",
      "Requirement already satisfied: mxnet-mkl==1.6.0 in /opt/conda/lib/python3.10/site-packages (1.6.0)\n",
      "Collecting numpy==1.23\n",
      "  Downloading numpy-1.23.0-cp310-cp310-manylinux_2_17_x86_64.manylinux2014_x86_64.whl (17.0 MB)\n",
      "\u001b[2K     \u001b[90m━━━━━━━━━━━━━━━━━━━━━━━━━━━━━━━━━━━━━━━\u001b[0m \u001b[32m17.0/17.0 MB\u001b[0m \u001b[31m117.7 MB/s\u001b[0m eta \u001b[36m0:00:00\u001b[0m00:01\u001b[0m00:01\u001b[0m\n",
      "\u001b[?25hRequirement already satisfied: mxnet in /opt/conda/lib/python3.10/site-packages (1.9.1)\n",
      "Requirement already satisfied: graphviz<0.9.0,>=0.8.1 in /opt/conda/lib/python3.10/site-packages (from mxnet-mkl==1.6.0) (0.8.4)\n",
      "Requirement already satisfied: requests<3,>=2.20.0 in /opt/conda/lib/python3.10/site-packages (from mxnet-mkl==1.6.0) (2.29.0)\n",
      "Requirement already satisfied: tqdm in /opt/conda/lib/python3.10/site-packages (from gluoncv) (4.65.0)\n",
      "Requirement already satisfied: opencv-python in /opt/conda/lib/python3.10/site-packages (from gluoncv) (4.7.0.72)\n",
      "Requirement already satisfied: pandas in /opt/conda/lib/python3.10/site-packages (from gluoncv) (2.0.1)\n",
      "Requirement already satisfied: yacs in /opt/conda/lib/python3.10/site-packages (from gluoncv) (0.1.8)\n",
      "Requirement already satisfied: Pillow in /opt/conda/lib/python3.10/site-packages (from gluoncv) (9.4.0)\n",
      "Requirement already satisfied: matplotlib in /opt/conda/lib/python3.10/site-packages (from gluoncv) (3.7.1)\n",
      "Requirement already satisfied: scipy in /opt/conda/lib/python3.10/site-packages (from gluoncv) (1.10.1)\n",
      "Requirement already satisfied: autocfg in /opt/conda/lib/python3.10/site-packages (from gluoncv) (0.0.8)\n",
      "Requirement already satisfied: pyyaml in /opt/conda/lib/python3.10/site-packages (from gluoncv) (6.0)\n",
      "Requirement already satisfied: portalocker in /opt/conda/lib/python3.10/site-packages (from gluoncv) (2.7.0)\n",
      "Requirement already satisfied: idna<4,>=2.5 in /opt/conda/lib/python3.10/site-packages (from requests<3,>=2.20.0->mxnet-mkl==1.6.0) (3.4)\n",
      "Requirement already satisfied: charset-normalizer<4,>=2 in /opt/conda/lib/python3.10/site-packages (from requests<3,>=2.20.0->mxnet-mkl==1.6.0) (2.0.4)\n",
      "Requirement already satisfied: urllib3<1.27,>=1.21.1 in /opt/conda/lib/python3.10/site-packages (from requests<3,>=2.20.0->mxnet-mkl==1.6.0) (1.26.15)\n",
      "Requirement already satisfied: certifi>=2017.4.17 in /opt/conda/lib/python3.10/site-packages (from requests<3,>=2.20.0->mxnet-mkl==1.6.0) (2023.5.7)\n",
      "Requirement already satisfied: pyparsing>=2.3.1 in /opt/conda/lib/python3.10/site-packages (from matplotlib->gluoncv) (3.0.9)\n",
      "Requirement already satisfied: python-dateutil>=2.7 in /opt/conda/lib/python3.10/site-packages (from matplotlib->gluoncv) (2.8.2)\n",
      "Requirement already satisfied: packaging>=20.0 in /opt/conda/lib/python3.10/site-packages (from matplotlib->gluoncv) (23.0)\n",
      "Requirement already satisfied: kiwisolver>=1.0.1 in /opt/conda/lib/python3.10/site-packages (from matplotlib->gluoncv) (1.4.4)\n",
      "Requirement already satisfied: cycler>=0.10 in /opt/conda/lib/python3.10/site-packages (from matplotlib->gluoncv) (0.11.0)\n",
      "Requirement already satisfied: fonttools>=4.22.0 in /opt/conda/lib/python3.10/site-packages (from matplotlib->gluoncv) (4.39.4)\n",
      "Requirement already satisfied: contourpy>=1.0.1 in /opt/conda/lib/python3.10/site-packages (from matplotlib->gluoncv) (1.0.7)\n",
      "Requirement already satisfied: tzdata>=2022.1 in /opt/conda/lib/python3.10/site-packages (from pandas->gluoncv) (2023.3)\n",
      "Requirement already satisfied: pytz>=2020.1 in /opt/conda/lib/python3.10/site-packages (from pandas->gluoncv) (2022.7)\n",
      "Requirement already satisfied: six>=1.5 in /opt/conda/lib/python3.10/site-packages (from python-dateutil>=2.7->matplotlib->gluoncv) (1.16.0)\n",
      "Installing collected packages: numpy\n",
      "  Attempting uninstall: numpy\n",
      "    Found existing installation: numpy 1.23.1\n",
      "    Uninstalling numpy-1.23.1:\n",
      "      Successfully uninstalled numpy-1.23.1\n",
      "Successfully installed numpy-1.23.0\n",
      "\u001b[33mWARNING: Running pip as the 'root' user can result in broken permissions and conflicting behaviour with the system package manager. It is recommended to use a virtual environment instead: https://pip.pypa.io/warnings/venv\u001b[0m\u001b[33m\n",
      "\u001b[0mNote: you may need to restart the kernel to use updated packages.\n"
     ]
    }
   ],
   "source": [
    "%pip install gluoncv mxnet-mkl==1.6.0 numpy==1.23 mxnet"
   ]
  },
  {
   "cell_type": "code",
   "execution_count": 3,
   "id": "29249b00",
   "metadata": {},
   "outputs": [
    {
     "name": "stdout",
     "output_type": "stream",
     "text": [
      "/opt/conda/lib/python3.10/site-packages/gluoncv/__init__.py:40: UserWarning: Both `mxnet==1.6.0` and `torch==1.13.0+cu117` are installed. You might encounter increased GPU memory footprint if both framework are used at the same time.\n",
      "  warnings.warn(f'Both `mxnet=={mx.__version__}` and `torch=={torch.__version__}` are installed. '\n",
      "Downloading gluon_data/VOCtrainval_06-Nov-2007.tar from http://host.robots.ox.ac.uk/pascal/VOC/voc2007/VOCtrainval_06-Nov-2007.tar...\n",
      "100%|██████████████████████████████████| 449250/449250 [07:38<00:00, 980.82KB/s]\n",
      "Downloading gluon_data/VOCtest_06-Nov-2007.tar from http://host.robots.ox.ac.uk/pascal/VOC/voc2007/VOCtest_06-Nov-2007.tar...\n",
      "100%|████████████████████████████████| 440450/440450 [00:33<00:00, 13174.86KB/s]\n",
      "Downloading gluon_data/VOCtrainval_11-May-2012.tar from http://host.robots.ox.ac.uk/pascal/VOC/voc2012/VOCtrainval_11-May-2012.tar...\n",
      " 13%|████                           | 253726/1952773 [00:23<02:34, 11000.76KB/s]^C\n",
      " 13%|████                           | 254352/1952773 [00:23<02:35, 10904.06KB/s]\n",
      "Traceback (most recent call last):\n",
      "  File \"/home/dda4220/final_project-l1xiangyi/pascal_voc.py\", line 74, in <module>\n",
      "    download_voc(path, overwrite=args.overwrite)\n",
      "  File \"/home/dda4220/final_project-l1xiangyi/pascal_voc.py\", line 35, in download_voc\n",
      "    filename = download(url, path=path, overwrite=overwrite, sha1_hash=checksum)\n",
      "  File \"/opt/conda/lib/python3.10/site-packages/gluoncv/utils/download.py\", line 78, in download\n",
      "    for chunk in tqdm(r.iter_content(chunk_size=1024),\n",
      "  File \"/opt/conda/lib/python3.10/site-packages/tqdm/std.py\", line 1178, in __iter__\n",
      "    for obj in iterable:\n",
      "  File \"/opt/conda/lib/python3.10/site-packages/requests/models.py\", line 816, in generate\n",
      "    yield from self.raw.stream(chunk_size, decode_content=True)\n",
      "  File \"/opt/conda/lib/python3.10/site-packages/urllib3/response.py\", line 628, in stream\n",
      "    data = self.read(amt=amt, decode_content=decode_content)\n",
      "  File \"/opt/conda/lib/python3.10/site-packages/urllib3/response.py\", line 567, in read\n",
      "    data = self._fp_read(amt) if not fp_closed else b\"\"\n",
      "  File \"/opt/conda/lib/python3.10/site-packages/urllib3/response.py\", line 533, in _fp_read\n",
      "    return self._fp.read(amt) if amt is not None else self._fp.read()\n",
      "  File \"/opt/conda/lib/python3.10/http/client.py\", line 466, in read\n",
      "    s = self.fp.read(amt)\n",
      "  File \"/opt/conda/lib/python3.10/socket.py\", line 705, in readinto\n",
      "    return self._sock.recv_into(b)\n",
      "KeyboardInterrupt\n"
     ]
    }
   ],
   "source": [
    "!python pascal_voc.py --download-dir gluon_data"
   ]
  },
  {
   "cell_type": "markdown",
   "id": "e972f299",
   "metadata": {},
   "source": [
    "# SSD"
   ]
  },
  {
   "cell_type": "markdown",
   "id": "bb3bfdf2",
   "metadata": {},
   "source": [
    "## Baseline Pretrained"
   ]
  },
  {
   "cell_type": "code",
   "execution_count": 1,
   "id": "990fb312",
   "metadata": {},
   "outputs": [
    {
     "name": "stderr",
     "output_type": "stream",
     "text": [
      "/opt/conda/lib/python3.10/site-packages/gluoncv/__init__.py:40: UserWarning: Both `mxnet==1.6.0` and `torch==1.13.0+cu117` are installed. You might encounter increased GPU memory footprint if both framework are used at the same time.\n",
      "  warnings.warn(f'Both `mxnet=={mx.__version__}` and `torch=={torch.__version__}` are installed. '\n",
      "/opt/conda/lib/python3.10/site-packages/mxnet/gluon/block.py:1389: UserWarning: Cannot decide type for the following arguments. Consider providing them as input:\n",
      "\tdata: None\n",
      "  input_sym_arg_type = in_param.infer_type()[0]\n"
     ]
    },
    {
     "ename": "ValueError",
     "evalue": "max() arg is an empty sequence",
     "output_type": "error",
     "traceback": [
      "\u001b[0;31m---------------------------------------------------------------------------\u001b[0m",
      "\u001b[0;31mValueError\u001b[0m                                Traceback (most recent call last)",
      "Cell \u001b[0;32mIn[1], line 45\u001b[0m\n\u001b[1;32m     43\u001b[0m     gt_bboxes\u001b[38;5;241m.\u001b[39mappend(y\u001b[38;5;241m.\u001b[39mslice_axis(axis\u001b[38;5;241m=\u001b[39m\u001b[38;5;241m-\u001b[39m\u001b[38;5;241m1\u001b[39m, begin\u001b[38;5;241m=\u001b[39m\u001b[38;5;241m0\u001b[39m, end\u001b[38;5;241m=\u001b[39m\u001b[38;5;241m4\u001b[39m))\n\u001b[1;32m     44\u001b[0m     gt_difficults\u001b[38;5;241m.\u001b[39mappend(y\u001b[38;5;241m.\u001b[39mslice_axis(axis\u001b[38;5;241m=\u001b[39m\u001b[38;5;241m-\u001b[39m\u001b[38;5;241m1\u001b[39m, begin\u001b[38;5;241m=\u001b[39m\u001b[38;5;241m5\u001b[39m, end\u001b[38;5;241m=\u001b[39m\u001b[38;5;241m6\u001b[39m) \u001b[38;5;28;01mif\u001b[39;00m y\u001b[38;5;241m.\u001b[39mshape[\u001b[38;5;241m-\u001b[39m\u001b[38;5;241m1\u001b[39m] \u001b[38;5;241m>\u001b[39m \u001b[38;5;241m5\u001b[39m \u001b[38;5;28;01melse\u001b[39;00m \u001b[38;5;28;01mNone\u001b[39;00m)\n\u001b[0;32m---> 45\u001b[0m \u001b[38;5;28;43mprint\u001b[39;49m\u001b[43m(\u001b[49m\u001b[43mmetric\u001b[49m\u001b[43m)\u001b[49m\n\u001b[1;32m     46\u001b[0m \u001b[38;5;66;03m# update metric\u001b[39;00m\n\u001b[1;32m     47\u001b[0m metric\u001b[38;5;241m.\u001b[39mupdate(\n\u001b[1;32m     48\u001b[0m     det_bboxes, det_ids, det_scores,\n\u001b[1;32m     49\u001b[0m     gt_bboxes, gt_ids, gt_difficults\n\u001b[1;32m     50\u001b[0m )\n",
      "File \u001b[0;32m/opt/conda/lib/python3.10/site-packages/mxnet/metric.py:98\u001b[0m, in \u001b[0;36mEvalMetric.__str__\u001b[0;34m(self)\u001b[0m\n\u001b[1;32m     97\u001b[0m \u001b[38;5;28;01mdef\u001b[39;00m \u001b[38;5;21m__str__\u001b[39m(\u001b[38;5;28mself\u001b[39m):\n\u001b[0;32m---> 98\u001b[0m     \u001b[38;5;28;01mreturn\u001b[39;00m \u001b[38;5;124m\"\u001b[39m\u001b[38;5;124mEvalMetric: \u001b[39m\u001b[38;5;132;01m{}\u001b[39;00m\u001b[38;5;124m\"\u001b[39m\u001b[38;5;241m.\u001b[39mformat(\u001b[38;5;28mdict\u001b[39m(\u001b[38;5;28;43mself\u001b[39;49m\u001b[38;5;241;43m.\u001b[39;49m\u001b[43mget_name_value\u001b[49m\u001b[43m(\u001b[49m\u001b[43m)\u001b[49m))\n",
      "File \u001b[0;32m/opt/conda/lib/python3.10/site-packages/mxnet/metric.py:201\u001b[0m, in \u001b[0;36mEvalMetric.get_name_value\u001b[0;34m(self)\u001b[0m\n\u001b[1;32m    193\u001b[0m \u001b[38;5;28;01mdef\u001b[39;00m \u001b[38;5;21mget_name_value\u001b[39m(\u001b[38;5;28mself\u001b[39m):\n\u001b[1;32m    194\u001b[0m \u001b[38;5;250m    \u001b[39m\u001b[38;5;124;03m\"\"\"Returns zipped name and value pairs.\u001b[39;00m\n\u001b[1;32m    195\u001b[0m \n\u001b[1;32m    196\u001b[0m \u001b[38;5;124;03m    Returns\u001b[39;00m\n\u001b[0;32m   (...)\u001b[0m\n\u001b[1;32m    199\u001b[0m \u001b[38;5;124;03m        A (name, value) tuple list.\u001b[39;00m\n\u001b[1;32m    200\u001b[0m \u001b[38;5;124;03m    \"\"\"\u001b[39;00m\n\u001b[0;32m--> 201\u001b[0m     name, value \u001b[38;5;241m=\u001b[39m \u001b[38;5;28;43mself\u001b[39;49m\u001b[38;5;241;43m.\u001b[39;49m\u001b[43mget\u001b[49m\u001b[43m(\u001b[49m\u001b[43m)\u001b[49m\n\u001b[1;32m    202\u001b[0m     \u001b[38;5;28;01mif\u001b[39;00m \u001b[38;5;129;01mnot\u001b[39;00m \u001b[38;5;28misinstance\u001b[39m(name, \u001b[38;5;28mlist\u001b[39m):\n\u001b[1;32m    203\u001b[0m         name \u001b[38;5;241m=\u001b[39m [name]\n",
      "File \u001b[0;32m/opt/conda/lib/python3.10/site-packages/gluoncv/utils/metrics/voc_detection.py:61\u001b[0m, in \u001b[0;36mVOCMApMetric.get\u001b[0;34m(self)\u001b[0m\n\u001b[1;32m     51\u001b[0m \u001b[38;5;28;01mdef\u001b[39;00m \u001b[38;5;21mget\u001b[39m(\u001b[38;5;28mself\u001b[39m):\n\u001b[1;32m     52\u001b[0m \u001b[38;5;250m    \u001b[39m\u001b[38;5;124;03m\"\"\"Get the current evaluation result.\u001b[39;00m\n\u001b[1;32m     53\u001b[0m \n\u001b[1;32m     54\u001b[0m \u001b[38;5;124;03m    Returns\u001b[39;00m\n\u001b[0;32m   (...)\u001b[0m\n\u001b[1;32m     59\u001b[0m \u001b[38;5;124;03m       Value of the evaluation.\u001b[39;00m\n\u001b[1;32m     60\u001b[0m \u001b[38;5;124;03m    \"\"\"\u001b[39;00m\n\u001b[0;32m---> 61\u001b[0m     \u001b[38;5;28;43mself\u001b[39;49m\u001b[38;5;241;43m.\u001b[39;49m\u001b[43m_update\u001b[49m\u001b[43m(\u001b[49m\u001b[43m)\u001b[49m  \u001b[38;5;66;03m# update metric at this time\u001b[39;00m\n\u001b[1;32m     62\u001b[0m     \u001b[38;5;28;01mif\u001b[39;00m \u001b[38;5;28mself\u001b[39m\u001b[38;5;241m.\u001b[39mnum \u001b[38;5;129;01mis\u001b[39;00m \u001b[38;5;28;01mNone\u001b[39;00m:\n\u001b[1;32m     63\u001b[0m         \u001b[38;5;28;01mif\u001b[39;00m \u001b[38;5;28mself\u001b[39m\u001b[38;5;241m.\u001b[39mnum_inst \u001b[38;5;241m==\u001b[39m \u001b[38;5;241m0\u001b[39m:\n",
      "File \u001b[0;32m/opt/conda/lib/python3.10/site-packages/gluoncv/utils/metrics/voc_detection.py:186\u001b[0m, in \u001b[0;36mVOCMApMetric._update\u001b[0;34m(self)\u001b[0m\n\u001b[1;32m    184\u001b[0m \u001b[38;5;250m\u001b[39m\u001b[38;5;124;03m\"\"\" update num_inst and sum_metric \"\"\"\u001b[39;00m\n\u001b[1;32m    185\u001b[0m aps \u001b[38;5;241m=\u001b[39m []\n\u001b[0;32m--> 186\u001b[0m recall, precs \u001b[38;5;241m=\u001b[39m \u001b[38;5;28;43mself\u001b[39;49m\u001b[38;5;241;43m.\u001b[39;49m\u001b[43m_recall_prec\u001b[49m\u001b[43m(\u001b[49m\u001b[43m)\u001b[49m\n\u001b[1;32m    187\u001b[0m \u001b[38;5;28;01mfor\u001b[39;00m l, rec, prec \u001b[38;5;129;01min\u001b[39;00m \u001b[38;5;28mzip\u001b[39m(\u001b[38;5;28mrange\u001b[39m(\u001b[38;5;28mlen\u001b[39m(precs)), recall, precs):\n\u001b[1;32m    188\u001b[0m     ap \u001b[38;5;241m=\u001b[39m \u001b[38;5;28mself\u001b[39m\u001b[38;5;241m.\u001b[39m_average_precision(rec, prec)\n",
      "File \u001b[0;32m/opt/conda/lib/python3.10/site-packages/gluoncv/utils/metrics/voc_detection.py:202\u001b[0m, in \u001b[0;36mVOCMApMetric._recall_prec\u001b[0;34m(self)\u001b[0m\n\u001b[1;32m    200\u001b[0m \u001b[38;5;28;01mdef\u001b[39;00m \u001b[38;5;21m_recall_prec\u001b[39m(\u001b[38;5;28mself\u001b[39m):\n\u001b[1;32m    201\u001b[0m \u001b[38;5;250m    \u001b[39m\u001b[38;5;124;03m\"\"\" get recall and precision from internal records \"\"\"\u001b[39;00m\n\u001b[0;32m--> 202\u001b[0m     n_fg_class \u001b[38;5;241m=\u001b[39m \u001b[38;5;28;43mmax\u001b[39;49m\u001b[43m(\u001b[49m\u001b[38;5;28;43mself\u001b[39;49m\u001b[38;5;241;43m.\u001b[39;49m\u001b[43m_n_pos\u001b[49m\u001b[38;5;241;43m.\u001b[39;49m\u001b[43mkeys\u001b[49m\u001b[43m(\u001b[49m\u001b[43m)\u001b[49m\u001b[43m)\u001b[49m \u001b[38;5;241m+\u001b[39m \u001b[38;5;241m1\u001b[39m\n\u001b[1;32m    203\u001b[0m     prec \u001b[38;5;241m=\u001b[39m [\u001b[38;5;28;01mNone\u001b[39;00m] \u001b[38;5;241m*\u001b[39m n_fg_class\n\u001b[1;32m    204\u001b[0m     rec \u001b[38;5;241m=\u001b[39m [\u001b[38;5;28;01mNone\u001b[39;00m] \u001b[38;5;241m*\u001b[39m n_fg_class\n",
      "\u001b[0;31mValueError\u001b[0m: max() arg is an empty sequence"
     ]
    }
   ],
   "source": [
    "import os\n",
    "import numpy as np\n",
    "from gluoncv import model_zoo, data, utils\n",
    "from gluoncv.utils.metrics.voc_detection import VOC07MApMetric\n",
    "from mxnet import gluon\n",
    "import mxnet as mx\n",
    "\n",
    "# Load the pre-trained model\n",
    "net = model_zoo.get_model('ssd_512_resnet50_v1_voc', pretrained=True)\n",
    "\n",
    "# Load the validation data from VOC 2012 dataset\n",
    "val_dataset = data.VOCDetection(root='./VOCdevkit', splits=[(2012, 'val')])\n",
    "\n",
    "# Define the validation data loader\n",
    "val_loader = gluon.data.DataLoader(\n",
    "    val_dataset.transform(data.transforms.presets.ssd.SSDDefaultValTransform(512, 512)),\n",
    "    batch_size=1,\n",
    "    shuffle=False,\n",
    "    last_batch='keep')\n",
    "\n",
    "# Define the evaluation metric\n",
    "metric = VOC07MApMetric(iou_thresh=0.5, class_names=val_dataset.classes)\n",
    "\n",
    "# Run the validation loop\n",
    "for batch in val_loader:\n",
    "    data = gluon.utils.split_and_load(batch[0], ctx_list=[mx.cpu()], batch_axis=0)\n",
    "    label = gluon.utils.split_and_load(batch[1], ctx_list=[mx.cpu()], batch_axis=0)\n",
    "    det_bboxes = []\n",
    "    det_ids = []\n",
    "    det_scores = []\n",
    "    gt_bboxes = []\n",
    "    gt_ids = []\n",
    "    gt_difficults = []\n",
    "    for x, y in zip(data, label):\n",
    "        # get prediction results\n",
    "        ids, scores, bboxes = net(x)\n",
    "        det_ids.append(ids)\n",
    "        det_scores.append(scores)\n",
    "        # clip to image size\n",
    "        det_bboxes.append(bboxes.clip(0, batch[0].shape[2]))\n",
    "        # split ground truths\n",
    "        gt_ids.append(y.slice_axis(axis=-1, begin=4, end=5))\n",
    "        gt_bboxes.append(y.slice_axis(axis=-1, begin=0, end=4))\n",
    "        gt_difficults.append(y.slice_axis(axis=-1, begin=5, end=6) if y.shape[-1] > 5 else None)\n",
    "    print(metric)\n",
    "    # update metric\n",
    "    metric.update(\n",
    "        det_bboxes, det_ids, det_scores,\n",
    "        gt_bboxes, gt_ids, gt_difficults\n",
    "    )\n",
    "\n",
    "# Get the final mean Average Precision (mAP)\n",
    "print('The Mean Average Precision (mAP) on the VOC 2012 validation set is:', metric.get())\n"
   ]
  },
  {
   "cell_type": "markdown",
   "id": "eceb6d58",
   "metadata": {},
   "source": [
    "## Fine-tuned"
   ]
  },
  {
   "cell_type": "code",
   "execution_count": null,
   "id": "0a4ff643",
   "metadata": {},
   "outputs": [],
   "source": []
  }
 ],
 "metadata": {
  "kernelspec": {
   "display_name": "Python 3 (ipykernel)",
   "language": "python",
   "name": "python3"
  },
  "language_info": {
   "codemirror_mode": {
    "name": "ipython",
    "version": 3
   },
   "file_extension": ".py",
   "mimetype": "text/x-python",
   "name": "python",
   "nbconvert_exporter": "python",
   "pygments_lexer": "ipython3",
   "version": "3.10.11"
  }
 },
 "nbformat": 4,
 "nbformat_minor": 5
}
