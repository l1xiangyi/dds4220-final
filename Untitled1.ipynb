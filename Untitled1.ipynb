{
 "cells": [
  {
   "cell_type": "code",
   "execution_count": 1,
   "id": "56226ae8",
   "metadata": {},
   "outputs": [
    {
     "name": "stdout",
     "output_type": "stream",
     "text": [
      "Requirement already satisfied: gluoncv in /opt/conda/lib/python3.10/site-packages (0.10.5.post0)\n",
      "Requirement already satisfied: mxnet-mkl==1.6.0 in /opt/conda/lib/python3.10/site-packages (1.6.0)\n",
      "Collecting numpy==1.23\n",
      "  Downloading numpy-1.23.0-cp310-cp310-manylinux_2_17_x86_64.manylinux2014_x86_64.whl (17.0 MB)\n",
      "\u001b[2K     \u001b[90m━━━━━━━━━━━━━━━━━━━━━━━━━━━━━━━━━━━━━━━\u001b[0m \u001b[32m17.0/17.0 MB\u001b[0m \u001b[31m117.7 MB/s\u001b[0m eta \u001b[36m0:00:00\u001b[0m00:01\u001b[0m00:01\u001b[0m\n",
      "\u001b[?25hRequirement already satisfied: mxnet in /opt/conda/lib/python3.10/site-packages (1.9.1)\n",
      "Requirement already satisfied: graphviz<0.9.0,>=0.8.1 in /opt/conda/lib/python3.10/site-packages (from mxnet-mkl==1.6.0) (0.8.4)\n",
      "Requirement already satisfied: requests<3,>=2.20.0 in /opt/conda/lib/python3.10/site-packages (from mxnet-mkl==1.6.0) (2.29.0)\n",
      "Requirement already satisfied: tqdm in /opt/conda/lib/python3.10/site-packages (from gluoncv) (4.65.0)\n",
      "Requirement already satisfied: opencv-python in /opt/conda/lib/python3.10/site-packages (from gluoncv) (4.7.0.72)\n",
      "Requirement already satisfied: pandas in /opt/conda/lib/python3.10/site-packages (from gluoncv) (2.0.1)\n",
      "Requirement already satisfied: yacs in /opt/conda/lib/python3.10/site-packages (from gluoncv) (0.1.8)\n",
      "Requirement already satisfied: Pillow in /opt/conda/lib/python3.10/site-packages (from gluoncv) (9.4.0)\n",
      "Requirement already satisfied: matplotlib in /opt/conda/lib/python3.10/site-packages (from gluoncv) (3.7.1)\n",
      "Requirement already satisfied: scipy in /opt/conda/lib/python3.10/site-packages (from gluoncv) (1.10.1)\n",
      "Requirement already satisfied: autocfg in /opt/conda/lib/python3.10/site-packages (from gluoncv) (0.0.8)\n",
      "Requirement already satisfied: pyyaml in /opt/conda/lib/python3.10/site-packages (from gluoncv) (6.0)\n",
      "Requirement already satisfied: portalocker in /opt/conda/lib/python3.10/site-packages (from gluoncv) (2.7.0)\n",
      "Requirement already satisfied: idna<4,>=2.5 in /opt/conda/lib/python3.10/site-packages (from requests<3,>=2.20.0->mxnet-mkl==1.6.0) (3.4)\n",
      "Requirement already satisfied: charset-normalizer<4,>=2 in /opt/conda/lib/python3.10/site-packages (from requests<3,>=2.20.0->mxnet-mkl==1.6.0) (2.0.4)\n",
      "Requirement already satisfied: urllib3<1.27,>=1.21.1 in /opt/conda/lib/python3.10/site-packages (from requests<3,>=2.20.0->mxnet-mkl==1.6.0) (1.26.15)\n",
      "Requirement already satisfied: certifi>=2017.4.17 in /opt/conda/lib/python3.10/site-packages (from requests<3,>=2.20.0->mxnet-mkl==1.6.0) (2023.5.7)\n",
      "Requirement already satisfied: pyparsing>=2.3.1 in /opt/conda/lib/python3.10/site-packages (from matplotlib->gluoncv) (3.0.9)\n",
      "Requirement already satisfied: python-dateutil>=2.7 in /opt/conda/lib/python3.10/site-packages (from matplotlib->gluoncv) (2.8.2)\n",
      "Requirement already satisfied: packaging>=20.0 in /opt/conda/lib/python3.10/site-packages (from matplotlib->gluoncv) (23.0)\n",
      "Requirement already satisfied: kiwisolver>=1.0.1 in /opt/conda/lib/python3.10/site-packages (from matplotlib->gluoncv) (1.4.4)\n",
      "Requirement already satisfied: cycler>=0.10 in /opt/conda/lib/python3.10/site-packages (from matplotlib->gluoncv) (0.11.0)\n",
      "Requirement already satisfied: fonttools>=4.22.0 in /opt/conda/lib/python3.10/site-packages (from matplotlib->gluoncv) (4.39.4)\n",
      "Requirement already satisfied: contourpy>=1.0.1 in /opt/conda/lib/python3.10/site-packages (from matplotlib->gluoncv) (1.0.7)\n",
      "Requirement already satisfied: tzdata>=2022.1 in /opt/conda/lib/python3.10/site-packages (from pandas->gluoncv) (2023.3)\n",
      "Requirement already satisfied: pytz>=2020.1 in /opt/conda/lib/python3.10/site-packages (from pandas->gluoncv) (2022.7)\n",
      "Requirement already satisfied: six>=1.5 in /opt/conda/lib/python3.10/site-packages (from python-dateutil>=2.7->matplotlib->gluoncv) (1.16.0)\n",
      "Installing collected packages: numpy\n",
      "  Attempting uninstall: numpy\n",
      "    Found existing installation: numpy 1.23.1\n",
      "    Uninstalling numpy-1.23.1:\n",
      "      Successfully uninstalled numpy-1.23.1\n",
      "Successfully installed numpy-1.23.0\n",
      "\u001b[33mWARNING: Running pip as the 'root' user can result in broken permissions and conflicting behaviour with the system package manager. It is recommended to use a virtual environment instead: https://pip.pypa.io/warnings/venv\u001b[0m\u001b[33m\n",
      "\u001b[0mNote: you may need to restart the kernel to use updated packages.\n"
     ]
    }
   ],
   "source": [
    "%pip install gluoncv mxnet-mkl==1.6.0 numpy==1.23 mxnet"
   ]
  },
  {
   "cell_type": "markdown",
   "id": "e972f299",
   "metadata": {},
   "source": [
    "# SSD"
   ]
  },
  {
   "cell_type": "markdown",
   "id": "bb3bfdf2",
   "metadata": {},
   "source": [
    "## Baseline Pretrained"
   ]
  },
  {
   "cell_type": "code",
   "execution_count": 1,
   "id": "990fb312",
   "metadata": {},
   "outputs": [
    {
     "name": "stderr",
     "output_type": "stream",
     "text": [
      "/opt/conda/lib/python3.10/site-packages/gluoncv/__init__.py:40: UserWarning: Both `mxnet==1.6.0` and `torch==1.13.0+cu117` are installed. You might encounter increased GPU memory footprint if both framework are used at the same time.\n",
      "  warnings.warn(f'Both `mxnet=={mx.__version__}` and `torch=={torch.__version__}` are installed. '\n",
      "/opt/conda/lib/python3.10/site-packages/mxnet/gluon/block.py:1389: UserWarning: Cannot decide type for the following arguments. Consider providing them as input:\n",
      "\tdata: None\n",
      "  input_sym_arg_type = in_param.infer_type()[0]\n"
     ]
    },
    {
     "ename": "FileNotFoundError",
     "evalue": "[Errno 2] No such file or directory: './ssd_data/VOC2012/ImageSets/Main/val.txt'",
     "output_type": "error",
     "traceback": [
      "\u001b[0;31m---------------------------------------------------------------------------\u001b[0m",
      "\u001b[0;31mFileNotFoundError\u001b[0m                         Traceback (most recent call last)",
      "Cell \u001b[0;32mIn[1], line 11\u001b[0m\n\u001b[1;32m      8\u001b[0m net \u001b[38;5;241m=\u001b[39m model_zoo\u001b[38;5;241m.\u001b[39mget_model(\u001b[38;5;124m'\u001b[39m\u001b[38;5;124mssd_512_resnet50_v1_voc\u001b[39m\u001b[38;5;124m'\u001b[39m, pretrained\u001b[38;5;241m=\u001b[39m\u001b[38;5;28;01mTrue\u001b[39;00m)\n\u001b[1;32m     10\u001b[0m \u001b[38;5;66;03m# Load the validation data from VOC 2012 dataset\u001b[39;00m\n\u001b[0;32m---> 11\u001b[0m val_dataset \u001b[38;5;241m=\u001b[39m \u001b[43mdata\u001b[49m\u001b[38;5;241;43m.\u001b[39;49m\u001b[43mVOCDetection\u001b[49m\u001b[43m(\u001b[49m\u001b[43mroot\u001b[49m\u001b[38;5;241;43m=\u001b[39;49m\u001b[38;5;124;43m'\u001b[39;49m\u001b[38;5;124;43m./ssd_data\u001b[39;49m\u001b[38;5;124;43m'\u001b[39;49m\u001b[43m,\u001b[49m\u001b[43m \u001b[49m\u001b[43msplits\u001b[49m\u001b[38;5;241;43m=\u001b[39;49m\u001b[43m[\u001b[49m\u001b[43m(\u001b[49m\u001b[38;5;241;43m2012\u001b[39;49m\u001b[43m,\u001b[49m\u001b[43m \u001b[49m\u001b[38;5;124;43m'\u001b[39;49m\u001b[38;5;124;43mval\u001b[39;49m\u001b[38;5;124;43m'\u001b[39;49m\u001b[43m)\u001b[49m\u001b[43m]\u001b[49m\u001b[43m)\u001b[49m\n\u001b[1;32m     13\u001b[0m \u001b[38;5;66;03m# Define the validation data loader\u001b[39;00m\n\u001b[1;32m     14\u001b[0m val_loader \u001b[38;5;241m=\u001b[39m gluon\u001b[38;5;241m.\u001b[39mdata\u001b[38;5;241m.\u001b[39mDataLoader(\n\u001b[1;32m     15\u001b[0m     val_dataset\u001b[38;5;241m.\u001b[39mtransform(data\u001b[38;5;241m.\u001b[39mtransforms\u001b[38;5;241m.\u001b[39mpresets\u001b[38;5;241m.\u001b[39mssd\u001b[38;5;241m.\u001b[39mSSDDefaultValTransform(\u001b[38;5;241m512\u001b[39m, \u001b[38;5;241m512\u001b[39m)),\n\u001b[1;32m     16\u001b[0m     batch_size\u001b[38;5;241m=\u001b[39m\u001b[38;5;241m1\u001b[39m,  \u001b[38;5;66;03m# Change the batch size according to your system's capabilities\u001b[39;00m\n\u001b[1;32m     17\u001b[0m     shuffle\u001b[38;5;241m=\u001b[39m\u001b[38;5;28;01mFalse\u001b[39;00m,  \u001b[38;5;66;03m# In validation, data doesn't need to be shuffled\u001b[39;00m\n\u001b[1;32m     18\u001b[0m     last_batch\u001b[38;5;241m=\u001b[39m\u001b[38;5;124m'\u001b[39m\u001b[38;5;124mkeep\u001b[39m\u001b[38;5;124m'\u001b[39m)\n",
      "File \u001b[0;32m/opt/conda/lib/python3.10/site-packages/gluoncv/data/pascal_voc/detection.py:60\u001b[0m, in \u001b[0;36mVOCDetection.__init__\u001b[0;34m(self, root, splits, transform, index_map, preload_label)\u001b[0m\n\u001b[1;32m     58\u001b[0m \u001b[38;5;28mself\u001b[39m\u001b[38;5;241m.\u001b[39m_transform \u001b[38;5;241m=\u001b[39m transform\n\u001b[1;32m     59\u001b[0m \u001b[38;5;28mself\u001b[39m\u001b[38;5;241m.\u001b[39m_splits \u001b[38;5;241m=\u001b[39m splits\n\u001b[0;32m---> 60\u001b[0m \u001b[38;5;28mself\u001b[39m\u001b[38;5;241m.\u001b[39m_items \u001b[38;5;241m=\u001b[39m \u001b[38;5;28;43mself\u001b[39;49m\u001b[38;5;241;43m.\u001b[39;49m\u001b[43m_load_items\u001b[49m\u001b[43m(\u001b[49m\u001b[43msplits\u001b[49m\u001b[43m)\u001b[49m\n\u001b[1;32m     61\u001b[0m \u001b[38;5;28mself\u001b[39m\u001b[38;5;241m.\u001b[39m_anno_path \u001b[38;5;241m=\u001b[39m os\u001b[38;5;241m.\u001b[39mpath\u001b[38;5;241m.\u001b[39mjoin(\u001b[38;5;124m'\u001b[39m\u001b[38;5;132;01m{}\u001b[39;00m\u001b[38;5;124m'\u001b[39m, \u001b[38;5;124m'\u001b[39m\u001b[38;5;124mAnnotations\u001b[39m\u001b[38;5;124m'\u001b[39m, \u001b[38;5;124m'\u001b[39m\u001b[38;5;132;01m{}\u001b[39;00m\u001b[38;5;124m.xml\u001b[39m\u001b[38;5;124m'\u001b[39m)\n\u001b[1;32m     62\u001b[0m \u001b[38;5;28mself\u001b[39m\u001b[38;5;241m.\u001b[39m_image_path \u001b[38;5;241m=\u001b[39m os\u001b[38;5;241m.\u001b[39mpath\u001b[38;5;241m.\u001b[39mjoin(\u001b[38;5;124m'\u001b[39m\u001b[38;5;132;01m{}\u001b[39;00m\u001b[38;5;124m'\u001b[39m, \u001b[38;5;124m'\u001b[39m\u001b[38;5;124mJPEGImages\u001b[39m\u001b[38;5;124m'\u001b[39m, \u001b[38;5;124m'\u001b[39m\u001b[38;5;132;01m{}\u001b[39;00m\u001b[38;5;124m.jpg\u001b[39m\u001b[38;5;124m'\u001b[39m)\n",
      "File \u001b[0;32m/opt/conda/lib/python3.10/site-packages/gluoncv/data/pascal_voc/detection.py:98\u001b[0m, in \u001b[0;36mVOCDetection._load_items\u001b[0;34m(self, splits)\u001b[0m\n\u001b[1;32m     95\u001b[0m     root \u001b[38;5;241m=\u001b[39m os\u001b[38;5;241m.\u001b[39mpath\u001b[38;5;241m.\u001b[39mjoin(\n\u001b[1;32m     96\u001b[0m         \u001b[38;5;28mself\u001b[39m\u001b[38;5;241m.\u001b[39m_root, (\u001b[38;5;124m'\u001b[39m\u001b[38;5;124mVOC\u001b[39m\u001b[38;5;124m'\u001b[39m \u001b[38;5;241m+\u001b[39m \u001b[38;5;28mstr\u001b[39m(subfolder)) \u001b[38;5;28;01mif\u001b[39;00m \u001b[38;5;28misinstance\u001b[39m(subfolder, \u001b[38;5;28mint\u001b[39m) \u001b[38;5;28;01melse\u001b[39;00m subfolder)\n\u001b[1;32m     97\u001b[0m     lf \u001b[38;5;241m=\u001b[39m os\u001b[38;5;241m.\u001b[39mpath\u001b[38;5;241m.\u001b[39mjoin(root, \u001b[38;5;124m'\u001b[39m\u001b[38;5;124mImageSets\u001b[39m\u001b[38;5;124m'\u001b[39m, \u001b[38;5;124m'\u001b[39m\u001b[38;5;124mMain\u001b[39m\u001b[38;5;124m'\u001b[39m, name \u001b[38;5;241m+\u001b[39m \u001b[38;5;124m'\u001b[39m\u001b[38;5;124m.txt\u001b[39m\u001b[38;5;124m'\u001b[39m)\n\u001b[0;32m---> 98\u001b[0m     \u001b[38;5;28;01mwith\u001b[39;00m \u001b[38;5;28;43mopen\u001b[39;49m\u001b[43m(\u001b[49m\u001b[43mlf\u001b[49m\u001b[43m,\u001b[49m\u001b[43m \u001b[49m\u001b[38;5;124;43m'\u001b[39;49m\u001b[38;5;124;43mr\u001b[39;49m\u001b[38;5;124;43m'\u001b[39;49m\u001b[43m)\u001b[49m \u001b[38;5;28;01mas\u001b[39;00m f:\n\u001b[1;32m     99\u001b[0m         ids \u001b[38;5;241m+\u001b[39m\u001b[38;5;241m=\u001b[39m [(root, line\u001b[38;5;241m.\u001b[39mstrip()) \u001b[38;5;28;01mfor\u001b[39;00m line \u001b[38;5;129;01min\u001b[39;00m f\u001b[38;5;241m.\u001b[39mreadlines()]\n\u001b[1;32m    100\u001b[0m \u001b[38;5;28;01mreturn\u001b[39;00m ids\n",
      "\u001b[0;31mFileNotFoundError\u001b[0m: [Errno 2] No such file or directory: './ssd_data/VOC2012/ImageSets/Main/val.txt'"
     ]
    }
   ],
   "source": [
    "import os\n",
    "import numpy as np\n",
    "from gluoncv import model_zoo, data, utils\n",
    "from gluoncv.utils.metrics.voc_detection import VOC07MApMetric\n",
    "from mxnet import gluon\n",
    "\n",
    "# Load the pre-trained model\n",
    "net = model_zoo.get_model('ssd_512_resnet50_v1_voc', pretrained=True)\n",
    "\n",
    "# Load the validation data from VOC 2012 dataset\n",
    "val_dataset = data.VOCDetection(root='./gluon_data', splits=[(2012, 'val')])\n",
    "\n",
    "# Define the validation data loader\n",
    "val_loader = gluon.data.DataLoader(\n",
    "    val_dataset.transform(data.transforms.presets.ssd.SSDDefaultValTransform(512, 512)),\n",
    "    batch_size=1,  # Change the batch size according to your system's capabilities\n",
    "    shuffle=False,  # In validation, data doesn't need to be shuffled\n",
    "    last_batch='keep')\n",
    "\n",
    "# Define the evaluation metric\n",
    "metric = VOC07MApMetric(iou_thresh=0.5, class_names=val_dataset.classes)\n",
    "\n",
    "# Run the validation loop\n",
    "for batch in val_loader:\n",
    "    data = gluon.utils.split_and_load(batch[0], ctx_list=[mx.cpu()], batch_axis=0)\n",
    "    label = gluon.utils.split_and_load(batch[1], ctx_list=[mx.cpu()], batch_axis=0)\n",
    "    det_bboxes = []\n",
    "    det_ids = []\n",
    "    det_scores = []\n",
    "    gt_bboxes = []\n",
    "    gt_ids = []\n",
    "    gt_difficults = []\n",
    "    for x, y in zip(data, label):\n",
    "        # get prediction results\n",
    "        ids, scores, bboxes = net(x)\n",
    "        det_ids.append(ids)\n",
    "        det_scores.append(scores)\n",
    "        # clip to image size\n",
    "        det_bboxes.append(bboxes.clip(0, batch[0].shape[2]))\n",
    "        # split ground truths\n",
    "        gt_ids.append(y.slice_axis(axis=-1, begin=4, end=5))\n",
    "        gt_bboxes.append(y.slice_axis(axis=-1, begin=0, end=4))\n",
    "        gt_difficults.append(y.slice_axis(axis=-1, begin=5, end=6) if y.shape[-1] > 5 else None)\n",
    "\n",
    "    # update metric\n",
    "    metric.update(\n",
    "        det_bboxes, det_ids, det_scores,\n",
    "        gt_bboxes, gt_ids, gt_difficults\n",
    "    )\n",
    "\n",
    "# Get the final mean Average Precision (mAP)\n",
    "print('The Mean Average Precision (mAP) on the VOC 2012 validation set is:', metric.get())\n"
   ]
  },
  {
   "cell_type": "markdown",
   "id": "eceb6d58",
   "metadata": {},
   "source": [
    "## Fine-tuned"
   ]
  },
  {
   "cell_type": "code",
   "execution_count": null,
   "id": "0a4ff643",
   "metadata": {},
   "outputs": [],
   "source": []
  }
 ],
 "metadata": {
  "kernelspec": {
   "display_name": "Python 3 (ipykernel)",
   "language": "python",
   "name": "python3"
  },
  "language_info": {
   "codemirror_mode": {
    "name": "ipython",
    "version": 3
   },
   "file_extension": ".py",
   "mimetype": "text/x-python",
   "name": "python",
   "nbconvert_exporter": "python",
   "pygments_lexer": "ipython3",
   "version": "3.10.11"
  }
 },
 "nbformat": 4,
 "nbformat_minor": 5
}
