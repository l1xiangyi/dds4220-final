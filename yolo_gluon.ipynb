{
 "cells": [
  {
   "cell_type": "code",
   "execution_count": null,
   "id": "7678086b",
   "metadata": {},
   "outputs": [
    {
     "name": "stderr",
     "output_type": "stream",
     "text": [
      "/opt/conda/lib/python3.10/site-packages/gluoncv/__init__.py:40: UserWarning: Both `mxnet==1.6.0` and `torch==1.13.0+cu117` are installed. You might encounter increased GPU memory footprint if both framework are used at the same time.\n",
      "  warnings.warn(f'Both `mxnet=={mx.__version__}` and `torch=={torch.__version__}` are installed. '\n"
     ]
    },
    {
     "name": "stdout",
     "output_type": "stream",
     "text": [
      "5823\n",
      "0\n"
     ]
    }
   ],
   "source": [
    "import os\n",
    "import numpy as np\n",
    "from gluoncv import model_zoo, data, utils\n",
    "from gluoncv.utils.metrics.voc_detection import VOC07MApMetric\n",
    "from mxnet import gluon\n",
    "import mxnet as mx\n",
    "\n",
    "# Load the pretrained model\n",
    "model_name = 'yolo3_darknet53_voc'\n",
    "net = model_zoo.get_model(model_name, pretrained=True)\n",
    "\n",
    "# Load the VOC2012 dataset\n",
    "val_dataset = data.VOCDetection(root='./VOCdevkit', splits=[(2012, 'val')])\n",
    "\n",
    "# Define the validation data loader\n",
    "batch_size = 1\n",
    "val_loader = gluon.data.DataLoader(\n",
    "    val_dataset.transform(data.transforms.presets.yolo.YOLO3DefaultValTransform(width=416, height=416)),\n",
    "    batch_size=batch_size, shuffle=False, last_batch='keep', num_workers=10)\n",
    "\n",
    "# Define the mAP metric\n",
    "metric = VOC07MApMetric(iou_thresh=0.5, class_names=val_dataset.classes)\n",
    "\n",
    "# Run the model on the dataset and compute mAP\n",
    "print(len(val_loader))\n",
    "i = 0\n",
    "for batch in val_loader:\n",
    "    data = gluon.utils.split_and_load(batch[0], ctx_list=[mx.cpu(0)], batch_axis=0, even_split=False)\n",
    "    label = gluon.utils.split_and_load(batch[1], ctx_list=[mx.cpu(0)], batch_axis=0, even_split=False)\n",
    "    det_bboxes = []\n",
    "    det_ids = []\n",
    "    det_scores = []\n",
    "    gt_bboxes = []\n",
    "    gt_ids = []\n",
    "    gt_difficults = []\n",
    "    for x, y in zip(data, label):\n",
    "        # get prediction results\n",
    "        ids, scores, bboxes = net(x)\n",
    "        det_ids.append(ids)\n",
    "        det_scores.append(scores)\n",
    "        # clip to image size\n",
    "        det_bboxes.append(bboxes.clip(0, batch[0].shape[2]))\n",
    "        # split ground truths\n",
    "        gt_ids.append(y.slice_axis(axis=-1, begin=4, end=5))\n",
    "        gt_bboxes.append(y.slice_axis(axis=-1, begin=0, end=4))\n",
    "        gt_difficults.append(y.slice_axis(axis=-1, begin=5, end=6) if y.shape[-1] > 5 else None)\n",
    "\n",
    "    # update metric\n",
    "    metric.update(det_bboxes, det_ids, det_scores, gt_bboxes, gt_ids, gt_difficults)\n",
    "    if i % 100 == 0:\n",
    "        print(i)\n",
    "    i += 1\n",
    "\n",
    "print('The mAP of the model on the VOC2012 validation dataset is:', metric.get())\n"
   ]
  },
  {
   "cell_type": "code",
   "execution_count": null,
   "id": "78ed3e4c",
   "metadata": {},
   "outputs": [],
   "source": []
  }
 ],
 "metadata": {
  "kernelspec": {
   "display_name": "Python 3 (ipykernel)",
   "language": "python",
   "name": "python3"
  },
  "language_info": {
   "codemirror_mode": {
    "name": "ipython",
    "version": 3
   },
   "file_extension": ".py",
   "mimetype": "text/x-python",
   "name": "python",
   "nbconvert_exporter": "python",
   "pygments_lexer": "ipython3",
   "version": "3.10.11"
  }
 },
 "nbformat": 4,
 "nbformat_minor": 5
}
