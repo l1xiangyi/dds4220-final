{
  "cells": [
    {
      "cell_type": "code",
      "execution_count": null,
      "metadata": {
        "collapsed": false
      },
      "outputs": [],
      "source": [
        "%matplotlib inline"
      ]
    },
    {
      "cell_type": "markdown",
      "metadata": {},
      "source": [
        "# 04. Train SSD on Pascal VOC dataset\n",
        "\n",
        "This tutorial goes through the basic building blocks of object detection\n",
        "provided by GluonCV.\n",
        "Specifically, we show how to build a state-of-the-art Single Shot Multibox\n",
        "Detection [Liu16]_ model by stacking GluonCV components.\n",
        "This is also a good starting point for your own object detection project.\n",
        "\n",
        ".. hint::\n",
        "\n",
        "    You can skip the rest of this tutorial and start training your SSD model\n",
        "    right away by downloading this script:\n",
        "\n",
        "    :download:`Download train_ssd.py<../../../scripts/detection/ssd/train_ssd.py>`\n",
        "\n",
        "    Example usage:\n",
        "\n",
        "    Train a default vgg16_atrous 300x300 model with Pascal VOC on GPU 0:\n",
        "\n",
        "    .. code-block:: bash\n",
        "\n",
        "        python train_ssd.py\n",
        "\n",
        "    Train a resnet50_v1 512x512 model on GPU 0,1,2,3:\n",
        "\n",
        "    .. code-block:: bash\n",
        "\n",
        "        python train_ssd.py --gpus 0,1,2,3 --network resnet50_v1 --data-shape 512\n",
        "\n",
        "    Check the supported arguments:\n",
        "\n",
        "    .. code-block:: bash\n",
        "\n",
        "        python train_ssd.py --help\n",
        "\n",
        "\n"
      ]
    },
    {
      "cell_type": "markdown",
      "metadata": {},
      "source": [
        "## Dataset\n",
        "\n",
        "Please first go through this `sphx_glr_build_examples_datasets_pascal_voc.py` tutorial to setup Pascal\n",
        "VOC dataset on your disk.\n",
        "Then, we are ready to load training and validation images.\n",
        "\n"
      ]
    },
    {
      "cell_type": "code",
      "execution_count": null,
      "metadata": {},
      "outputs": [],
      "source": [
        "%pip install gluoncv"
      ]
    },
    {
      "cell_type": "code",
      "execution_count": null,
      "metadata": {
        "collapsed": false
      },
      "outputs": [],
      "source": [
        "from gluoncv.data import VOCDetection\n",
        "# typically we use 2007+2012 trainval splits for training data\n",
        "train_dataset = VOCDetection(splits=[(2007, 'trainval'), (2012, 'trainval')])\n",
        "# and use 2007 test as validation data\n",
        "val_dataset = VOCDetection(splits=[(2007, 'test')])\n",
        "\n",
        "print('Training images:', len(train_dataset))\n",
        "print('Validation images:', len(val_dataset))"
      ]
    },
    {
      "cell_type": "markdown",
      "metadata": {},
      "source": [
        "## Data transform\n",
        "We can read an image-label pair from the training dataset:\n",
        "\n"
      ]
    },
    {
      "cell_type": "code",
      "execution_count": null,
      "metadata": {
        "collapsed": false
      },
      "outputs": [],
      "source": [
        "train_image, train_label = train_dataset[0]\n",
        "bboxes = train_label[:, :4]\n",
        "cids = train_label[:, 4:5]\n",
        "print('image:', train_image.shape)\n",
        "print('bboxes:', bboxes.shape, 'class ids:', cids.shape)"
      ]
    },
    {
      "cell_type": "markdown",
      "metadata": {},
      "source": [
        "Plot the image, together with the bounding box labels:\n",
        "\n"
      ]
    },
    {
      "cell_type": "code",
      "execution_count": null,
      "metadata": {
        "collapsed": false
      },
      "outputs": [],
      "source": [
        "from matplotlib import pyplot as plt\n",
        "from gluoncv.utils import viz\n",
        "\n",
        "ax = viz.plot_bbox(\n",
        "    train_image.asnumpy(),\n",
        "    bboxes,\n",
        "    labels=cids,\n",
        "    class_names=train_dataset.classes)\n",
        "plt.show()"
      ]
    },
    {
      "cell_type": "markdown",
      "metadata": {},
      "source": [
        "Validation images are quite similar to training because they were\n",
        "basically split randomly to different sets\n",
        "\n"
      ]
    },
    {
      "cell_type": "code",
      "execution_count": null,
      "metadata": {
        "collapsed": false
      },
      "outputs": [],
      "source": [
        "val_image, val_label = val_dataset[0]\n",
        "bboxes = val_label[:, :4]\n",
        "cids = val_label[:, 4:5]\n",
        "ax = viz.plot_bbox(\n",
        "    val_image.asnumpy(),\n",
        "    bboxes,\n",
        "    labels=cids,\n",
        "    class_names=train_dataset.classes)\n",
        "plt.show()"
      ]
    },
    {
      "cell_type": "markdown",
      "metadata": {},
      "source": [
        "For SSD networks, it is critical to apply data augmentation (see explanations in paper [Liu16]_).\n",
        "We provide tons of image and bounding box transform functions to do that.\n",
        "They are very convenient to use as well.\n",
        "\n"
      ]
    },
    {
      "cell_type": "code",
      "execution_count": null,
      "metadata": {
        "collapsed": false
      },
      "outputs": [],
      "source": [
        "from gluoncv.data.transforms import presets\n",
        "from gluoncv import utils\n",
        "from mxnet import nd"
      ]
    },
    {
      "cell_type": "code",
      "execution_count": null,
      "metadata": {
        "collapsed": false
      },
      "outputs": [],
      "source": [
        "width, height = 512, 512  # suppose we use 512 as base training size\n",
        "train_transform = presets.ssd.SSDDefaultTrainTransform(width, height)\n",
        "val_transform = presets.ssd.SSDDefaultValTransform(width, height)"
      ]
    },
    {
      "cell_type": "code",
      "execution_count": null,
      "metadata": {
        "collapsed": false
      },
      "outputs": [],
      "source": [
        "utils.random.seed(233)  # fix seed in this tutorial"
      ]
    },
    {
      "cell_type": "markdown",
      "metadata": {},
      "source": [
        "apply transforms to train image\n",
        "\n"
      ]
    },
    {
      "cell_type": "code",
      "execution_count": null,
      "metadata": {
        "collapsed": false
      },
      "outputs": [],
      "source": [
        "train_image2, train_label2 = train_transform(train_image, train_label)\n",
        "print('tensor shape:', train_image2.shape)"
      ]
    },
    {
      "cell_type": "markdown",
      "metadata": {},
      "source": [
        "Images in tensor are distorted because they no longer sit in (0, 255) range.\n",
        "Let's convert them back so we can see them clearly.\n",
        "\n"
      ]
    },
    {
      "cell_type": "code",
      "execution_count": null,
      "metadata": {
        "collapsed": false
      },
      "outputs": [],
      "source": [
        "train_image2 = train_image2.transpose(\n",
        "    (1, 2, 0)) * nd.array((0.229, 0.224, 0.225)) + nd.array((0.485, 0.456, 0.406))\n",
        "train_image2 = (train_image2 * 255).clip(0, 255)\n",
        "ax = viz.plot_bbox(train_image2.asnumpy(), train_label2[:, :4],\n",
        "                   labels=train_label2[:, 4:5],\n",
        "                   class_names=train_dataset.classes)\n",
        "plt.show()"
      ]
    },
    {
      "cell_type": "markdown",
      "metadata": {},
      "source": [
        "apply transforms to validation image\n",
        "\n"
      ]
    },
    {
      "cell_type": "code",
      "execution_count": null,
      "metadata": {
        "collapsed": false
      },
      "outputs": [],
      "source": [
        "val_image2, val_label2 = val_transform(val_image, val_label)\n",
        "val_image2 = val_image2.transpose(\n",
        "    (1, 2, 0)) * nd.array((0.229, 0.224, 0.225)) + nd.array((0.485, 0.456, 0.406))\n",
        "val_image2 = (val_image2 * 255).clip(0, 255)\n",
        "ax = viz.plot_bbox(val_image2.clip(0, 255).asnumpy(), val_label2[:, :4],\n",
        "                   labels=val_label2[:, 4:5],\n",
        "                   class_names=train_dataset.classes)\n",
        "plt.show()"
      ]
    },
    {
      "cell_type": "markdown",
      "metadata": {},
      "source": [
        "Transforms used in training include random expanding, random cropping, color distortion, random flipping, etc.\n",
        "In comparison, validation transforms are simpler and only resizing and\n",
        "color normalization is used.\n",
        "\n"
      ]
    },
    {
      "cell_type": "markdown",
      "metadata": {},
      "source": [
        "## Data Loader\n",
        "We will iterate through the entire dataset many times during training.\n",
        "Keep in mind that raw images have to be transformed to tensors\n",
        "(mxnet uses BCHW format) before they are fed into neural networks.\n",
        "In addition, to be able to run in mini-batches,\n",
        "images must be resized to the same shape.\n",
        "\n",
        "A handy DataLoader would be very convenient for us to apply different transforms and aggregate data into mini-batches.\n",
        "\n",
        "Because the number of objects varies a lot across images, we also have\n",
        "varying label sizes. As a result, we need to pad those labels to the same size.\n",
        "To deal with this problem, GluonCV provides :py:class:`gluoncv.data.batchify.Pad`,\n",
        "which handles padding automatically.\n",
        ":py:class:`gluoncv.data.batchify.Stack` in addition, is used to stack NDArrays with consistent shapes.\n",
        ":py:class:`gluoncv.data.batchify.Tuple` is used to handle different behaviors across multiple outputs from transform functions.\n",
        "\n"
      ]
    },
    {
      "cell_type": "code",
      "execution_count": null,
      "metadata": {
        "collapsed": false
      },
      "outputs": [],
      "source": [
        "from gluoncv.data.batchify import Tuple, Stack, Pad\n",
        "from mxnet.gluon.data import DataLoader\n",
        "\n",
        "batch_size = 2  # for tutorial, we use smaller batch-size\n",
        "# you can make it larger(if your CPU has more cores) to accelerate data loading\n",
        "num_workers = 0\n",
        "\n",
        "# behavior of batchify_fn: stack images, and pad labels\n",
        "batchify_fn = Tuple(Stack(), Pad(pad_val=-1))\n",
        "train_loader = DataLoader(\n",
        "    train_dataset.transform(train_transform),\n",
        "    batch_size,\n",
        "    shuffle=True,\n",
        "    batchify_fn=batchify_fn,\n",
        "    last_batch='rollover',\n",
        "    num_workers=num_workers)\n",
        "val_loader = DataLoader(\n",
        "    val_dataset.transform(val_transform),\n",
        "    batch_size,\n",
        "    shuffle=False,\n",
        "    batchify_fn=batchify_fn,\n",
        "    last_batch='keep',\n",
        "    num_workers=num_workers)\n",
        "\n",
        "for ib, batch in enumerate(train_loader):\n",
        "    if ib > 3:\n",
        "        break\n",
        "    print('data:', batch[0].shape, 'label:', batch[1].shape)"
      ]
    },
    {
      "cell_type": "markdown",
      "metadata": {},
      "source": [
        "## SSD Network\n",
        "GluonCV's SSD implementation is a composite Gluon HybridBlock\n",
        "(which means it can be exported\n",
        "to symbol to run in C++, Scala and other language bindings.\n",
        "We will cover this usage in future tutorials).\n",
        "In terms of structure, SSD networks are composed of base feature extraction\n",
        "network, anchor generators, class predictors and bounding box offset predictors.\n",
        "\n",
        "For more details on how SSD detector works, please refer to our introductory\n",
        "`tutorial <http://gluon.mxnet.io/chapter08_computer-vision/object-detection.html>`__\n",
        "You can also refer to the original paper to learn more about the intuitions\n",
        "behind SSD.\n",
        "\n",
        "`Gluon Model Zoo <../../model_zoo/index.html>`__ has a lot of built-in SSD networks.\n",
        "You can load your favorite one with one simple line of code:\n",
        "\n",
        ".. hint::\n",
        "\n",
        "   To avoid downloading models in this tutorial, we set `pretrained_base=False`,\n",
        "   in practice we usually want to load pre-trained imagenet models by setting\n",
        "   `pretrained_base=True`.\n",
        "\n"
      ]
    },
    {
      "cell_type": "code",
      "execution_count": null,
      "metadata": {
        "collapsed": false
      },
      "outputs": [],
      "source": [
        "from gluoncv import model_zoo\n",
        "net = model_zoo.get_model('ssd_300_vgg16_atrous_voc', pretrained_base=False)\n",
        "print(net)"
      ]
    },
    {
      "cell_type": "markdown",
      "metadata": {},
      "source": [
        "SSD network is a HybridBlock as mentioned before. You can call it with\n",
        "an input as:\n",
        "\n"
      ]
    },
    {
      "cell_type": "code",
      "execution_count": null,
      "metadata": {
        "collapsed": false
      },
      "outputs": [],
      "source": [
        "import mxnet as mx\n",
        "x = mx.nd.zeros(shape=(1, 3, 512, 512))\n",
        "net.initialize()\n",
        "cids, scores, bboxes = net(x)"
      ]
    },
    {
      "cell_type": "markdown",
      "metadata": {},
      "source": [
        "SSD returns three values, where ``cids`` are the class labels,\n",
        "``scores`` are confidence scores of each prediction,\n",
        "and ``bboxes`` are absolute coordinates of corresponding bounding boxes.\n",
        "\n"
      ]
    },
    {
      "cell_type": "markdown",
      "metadata": {},
      "source": [
        "SSD network behave differently during training mode:\n",
        "\n"
      ]
    },
    {
      "cell_type": "code",
      "execution_count": null,
      "metadata": {
        "collapsed": false
      },
      "outputs": [],
      "source": [
        "from mxnet import autograd\n",
        "with autograd.train_mode():\n",
        "    cls_preds, box_preds, anchors = net(x)"
      ]
    },
    {
      "cell_type": "markdown",
      "metadata": {},
      "source": [
        "In training mode, SSD returns three intermediate values,\n",
        "where ``cls_preds`` are the class predictions prior to softmax,\n",
        "``box_preds`` are bounding box offsets with one-to-one correspondence to anchors\n",
        "and ``anchors`` are absolute coordinates of corresponding anchors boxes, which are\n",
        "fixed since training images use inputs of same dimensions.\n",
        "\n"
      ]
    },
    {
      "cell_type": "markdown",
      "metadata": {},
      "source": [
        "## Training targets\n",
        "Unlike a single ``SoftmaxCrossEntropyLoss`` used in image classification,\n",
        "the loss used in SSD is more complicated.\n",
        "Don't worry though, because we have these modules available out of the box.\n",
        "\n",
        "To speed up training, we let CPU to pre-compute some training targets.\n",
        "This is especially nice when your CPU is powerful and you can use ``-j num_workers``\n",
        "to utilize multi-core CPU.\n",
        "\n"
      ]
    },
    {
      "cell_type": "markdown",
      "metadata": {},
      "source": [
        "If we provide anchors to the training transform, it will compute\n",
        "training targets\n",
        "\n"
      ]
    },
    {
      "cell_type": "code",
      "execution_count": null,
      "metadata": {
        "collapsed": false
      },
      "outputs": [],
      "source": [
        "from mxnet import gluon\n",
        "train_transform = presets.ssd.SSDDefaultTrainTransform(width, height, anchors)\n",
        "batchify_fn = Tuple(Stack(), Stack(), Stack())\n",
        "train_loader = DataLoader(\n",
        "    train_dataset.transform(train_transform),\n",
        "    batch_size,\n",
        "    shuffle=True,\n",
        "    batchify_fn=batchify_fn,\n",
        "    last_batch='rollover',\n",
        "    num_workers=num_workers)"
      ]
    },
    {
      "cell_type": "markdown",
      "metadata": {},
      "source": [
        "Loss, Trainer and Training pipeline\n",
        "\n"
      ]
    },
    {
      "cell_type": "code",
      "execution_count": null,
      "metadata": {
        "collapsed": false
      },
      "outputs": [],
      "source": [
        "from gluoncv.loss import SSDMultiBoxLoss\n",
        "mbox_loss = SSDMultiBoxLoss()\n",
        "trainer = gluon.Trainer(\n",
        "    net.collect_params(), 'sgd',\n",
        "    {'learning_rate': 0.001, 'wd': 0.0005, 'momentum': 0.9})\n",
        "\n",
        "for ib, batch in enumerate(train_loader):\n",
        "    if ib > 0:\n",
        "        break\n",
        "    print('data:', batch[0].shape)\n",
        "    print('class targets:', batch[1].shape)\n",
        "    print('box targets:', batch[2].shape)\n",
        "    with autograd.record():\n",
        "        cls_pred, box_pred, anchors = net(batch[0])\n",
        "        sum_loss, cls_loss, box_loss = mbox_loss(\n",
        "            cls_pred, box_pred, batch[1], batch[2])\n",
        "        # some standard gluon training steps:\n",
        "        # autograd.backward(sum_loss)\n",
        "        # trainer.step(1)"
      ]
    },
    {
      "cell_type": "markdown",
      "metadata": {},
      "source": [
        "This time we can see the data loader is actually returning the training targets for us.\n",
        "Then it is very naturally a gluon training loop with Trainer and let it update the weights.\n",
        "\n",
        ".. hint::\n",
        "\n",
        "Please checkout the full :download:`training script\n",
        "<../../../scripts/detection/ssd/train_ssd.py>` for complete\n",
        "implementation.\n",
        "\n"
      ]
    },
    {
      "cell_type": "markdown",
      "metadata": {},
      "source": [
        "## References\n",
        "\n",
        ".. [Liu16] Wei Liu, Dragomir Anguelov, Dumitru Erhan, Christian Szegedy, Scott Reed, Cheng-Yang Fu, Alexander C. Berg. SSD: Single Shot MultiBox Detector. ECCV 2016.\n",
        "\n"
      ]
    }
  ],
  "metadata": {
    "kernelspec": {
      "display_name": "Python 3.11.2 64-bit",
      "language": "python",
      "name": "python3"
    },
    "language_info": {
      "codemirror_mode": {
        "name": "ipython",
        "version": 3
      },
      "file_extension": ".py",
      "mimetype": "text/x-python",
      "name": "python",
      "nbconvert_exporter": "python",
      "pygments_lexer": "ipython3",
      "version": "3.11.2"
    },
    "vscode": {
      "interpreter": {
        "hash": "aee8b7b246df8f9039afb4144a1f6fd8d2ca17a180786b69acc140d282b71a49"
      }
    }
  },
  "nbformat": 4,
  "nbformat_minor": 0
}
