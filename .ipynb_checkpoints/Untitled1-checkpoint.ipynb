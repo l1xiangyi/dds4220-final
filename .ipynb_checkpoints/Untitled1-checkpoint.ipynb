{
 "cells": [
  {
   "cell_type": "code",
   "execution_count": 1,
   "id": "56226ae8",
   "metadata": {},
   "outputs": [
    {
     "name": "stdout",
     "output_type": "stream",
     "text": [
      "Requirement already satisfied: gluoncv in /opt/conda/lib/python3.10/site-packages (0.10.5.post0)\n",
      "Requirement already satisfied: mxnet-mkl==1.6.0 in /opt/conda/lib/python3.10/site-packages (1.6.0)\n",
      "Collecting numpy==1.23\n",
      "  Downloading numpy-1.23.0-cp310-cp310-manylinux_2_17_x86_64.manylinux2014_x86_64.whl (17.0 MB)\n",
      "\u001b[2K     \u001b[90m━━━━━━━━━━━━━━━━━━━━━━━━━━━━━━━━━━━━━━━\u001b[0m \u001b[32m17.0/17.0 MB\u001b[0m \u001b[31m117.7 MB/s\u001b[0m eta \u001b[36m0:00:00\u001b[0m00:01\u001b[0m00:01\u001b[0m\n",
      "\u001b[?25hRequirement already satisfied: mxnet in /opt/conda/lib/python3.10/site-packages (1.9.1)\n",
      "Requirement already satisfied: graphviz<0.9.0,>=0.8.1 in /opt/conda/lib/python3.10/site-packages (from mxnet-mkl==1.6.0) (0.8.4)\n",
      "Requirement already satisfied: requests<3,>=2.20.0 in /opt/conda/lib/python3.10/site-packages (from mxnet-mkl==1.6.0) (2.29.0)\n",
      "Requirement already satisfied: tqdm in /opt/conda/lib/python3.10/site-packages (from gluoncv) (4.65.0)\n",
      "Requirement already satisfied: opencv-python in /opt/conda/lib/python3.10/site-packages (from gluoncv) (4.7.0.72)\n",
      "Requirement already satisfied: pandas in /opt/conda/lib/python3.10/site-packages (from gluoncv) (2.0.1)\n",
      "Requirement already satisfied: yacs in /opt/conda/lib/python3.10/site-packages (from gluoncv) (0.1.8)\n",
      "Requirement already satisfied: Pillow in /opt/conda/lib/python3.10/site-packages (from gluoncv) (9.4.0)\n",
      "Requirement already satisfied: matplotlib in /opt/conda/lib/python3.10/site-packages (from gluoncv) (3.7.1)\n",
      "Requirement already satisfied: scipy in /opt/conda/lib/python3.10/site-packages (from gluoncv) (1.10.1)\n",
      "Requirement already satisfied: autocfg in /opt/conda/lib/python3.10/site-packages (from gluoncv) (0.0.8)\n",
      "Requirement already satisfied: pyyaml in /opt/conda/lib/python3.10/site-packages (from gluoncv) (6.0)\n",
      "Requirement already satisfied: portalocker in /opt/conda/lib/python3.10/site-packages (from gluoncv) (2.7.0)\n",
      "Requirement already satisfied: idna<4,>=2.5 in /opt/conda/lib/python3.10/site-packages (from requests<3,>=2.20.0->mxnet-mkl==1.6.0) (3.4)\n",
      "Requirement already satisfied: charset-normalizer<4,>=2 in /opt/conda/lib/python3.10/site-packages (from requests<3,>=2.20.0->mxnet-mkl==1.6.0) (2.0.4)\n",
      "Requirement already satisfied: urllib3<1.27,>=1.21.1 in /opt/conda/lib/python3.10/site-packages (from requests<3,>=2.20.0->mxnet-mkl==1.6.0) (1.26.15)\n",
      "Requirement already satisfied: certifi>=2017.4.17 in /opt/conda/lib/python3.10/site-packages (from requests<3,>=2.20.0->mxnet-mkl==1.6.0) (2023.5.7)\n",
      "Requirement already satisfied: pyparsing>=2.3.1 in /opt/conda/lib/python3.10/site-packages (from matplotlib->gluoncv) (3.0.9)\n",
      "Requirement already satisfied: python-dateutil>=2.7 in /opt/conda/lib/python3.10/site-packages (from matplotlib->gluoncv) (2.8.2)\n",
      "Requirement already satisfied: packaging>=20.0 in /opt/conda/lib/python3.10/site-packages (from matplotlib->gluoncv) (23.0)\n",
      "Requirement already satisfied: kiwisolver>=1.0.1 in /opt/conda/lib/python3.10/site-packages (from matplotlib->gluoncv) (1.4.4)\n",
      "Requirement already satisfied: cycler>=0.10 in /opt/conda/lib/python3.10/site-packages (from matplotlib->gluoncv) (0.11.0)\n",
      "Requirement already satisfied: fonttools>=4.22.0 in /opt/conda/lib/python3.10/site-packages (from matplotlib->gluoncv) (4.39.4)\n",
      "Requirement already satisfied: contourpy>=1.0.1 in /opt/conda/lib/python3.10/site-packages (from matplotlib->gluoncv) (1.0.7)\n",
      "Requirement already satisfied: tzdata>=2022.1 in /opt/conda/lib/python3.10/site-packages (from pandas->gluoncv) (2023.3)\n",
      "Requirement already satisfied: pytz>=2020.1 in /opt/conda/lib/python3.10/site-packages (from pandas->gluoncv) (2022.7)\n",
      "Requirement already satisfied: six>=1.5 in /opt/conda/lib/python3.10/site-packages (from python-dateutil>=2.7->matplotlib->gluoncv) (1.16.0)\n",
      "Installing collected packages: numpy\n",
      "  Attempting uninstall: numpy\n",
      "    Found existing installation: numpy 1.23.1\n",
      "    Uninstalling numpy-1.23.1:\n",
      "      Successfully uninstalled numpy-1.23.1\n",
      "Successfully installed numpy-1.23.0\n",
      "\u001b[33mWARNING: Running pip as the 'root' user can result in broken permissions and conflicting behaviour with the system package manager. It is recommended to use a virtual environment instead: https://pip.pypa.io/warnings/venv\u001b[0m\u001b[33m\n",
      "\u001b[0mNote: you may need to restart the kernel to use updated packages.\n"
     ]
    }
   ],
   "source": [
    "%pip install gluoncv mxnet-mkl==1.6.0 numpy==1.23 mxnet"
   ]
  },
  {
   "cell_type": "code",
   "execution_count": 3,
   "id": "b14e7aad",
   "metadata": {},
   "outputs": [
    {
     "name": "stdout",
     "output_type": "stream",
     "text": [
      "/opt/conda/lib/python3.10/site-packages/gluoncv/__init__.py:40: UserWarning: Both `mxnet==1.6.0` and `torch==1.13.0+cu117` are installed. You might encounter increased GPU memory footprint if both framework are used at the same time.\n",
      "  warnings.warn(f'Both `mxnet=={mx.__version__}` and `torch=={torch.__version__}` are installed. '\n",
      "Downloading gluon_data/VOCtrainval_06-Nov-2007.tar from http://host.robots.ox.ac.uk/pascal/VOC/voc2007/VOCtrainval_06-Nov-2007.tar...\n",
      "100%|██████████████████████████████████| 449250/449250 [07:38<00:00, 980.82KB/s]\n",
      "Downloading gluon_data/VOCtest_06-Nov-2007.tar from http://host.robots.ox.ac.uk/pascal/VOC/voc2007/VOCtest_06-Nov-2007.tar...\n",
      "100%|████████████████████████████████| 440450/440450 [00:33<00:00, 13174.86KB/s]\n",
      "Downloading gluon_data/VOCtrainval_11-May-2012.tar from http://host.robots.ox.ac.uk/pascal/VOC/voc2012/VOCtrainval_11-May-2012.tar...\n",
      " 13%|████                           | 253726/1952773 [00:23<02:34, 11000.76KB/s]^C\n",
      " 13%|████                           | 254352/1952773 [00:23<02:35, 10904.06KB/s]\n",
      "Traceback (most recent call last):\n",
      "  File \"/home/dda4220/final_project-l1xiangyi/pascal_voc.py\", line 74, in <module>\n",
      "    download_voc(path, overwrite=args.overwrite)\n",
      "  File \"/home/dda4220/final_project-l1xiangyi/pascal_voc.py\", line 35, in download_voc\n",
      "    filename = download(url, path=path, overwrite=overwrite, sha1_hash=checksum)\n",
      "  File \"/opt/conda/lib/python3.10/site-packages/gluoncv/utils/download.py\", line 78, in download\n",
      "    for chunk in tqdm(r.iter_content(chunk_size=1024),\n",
      "  File \"/opt/conda/lib/python3.10/site-packages/tqdm/std.py\", line 1178, in __iter__\n",
      "    for obj in iterable:\n",
      "  File \"/opt/conda/lib/python3.10/site-packages/requests/models.py\", line 816, in generate\n",
      "    yield from self.raw.stream(chunk_size, decode_content=True)\n",
      "  File \"/opt/conda/lib/python3.10/site-packages/urllib3/response.py\", line 628, in stream\n",
      "    data = self.read(amt=amt, decode_content=decode_content)\n",
      "  File \"/opt/conda/lib/python3.10/site-packages/urllib3/response.py\", line 567, in read\n",
      "    data = self._fp_read(amt) if not fp_closed else b\"\"\n",
      "  File \"/opt/conda/lib/python3.10/site-packages/urllib3/response.py\", line 533, in _fp_read\n",
      "    return self._fp.read(amt) if amt is not None else self._fp.read()\n",
      "  File \"/opt/conda/lib/python3.10/http/client.py\", line 466, in read\n",
      "    s = self.fp.read(amt)\n",
      "  File \"/opt/conda/lib/python3.10/socket.py\", line 705, in readinto\n",
      "    return self._sock.recv_into(b)\n",
      "KeyboardInterrupt\n"
     ]
    }
   ],
   "source": [
    "!python pascal_voc.py --download-dir gluon_data"
   ]
  },
  {
   "cell_type": "markdown",
   "id": "e972f299",
   "metadata": {},
   "source": [
    "# SSD"
   ]
  },
  {
   "cell_type": "markdown",
   "id": "bb3bfdf2",
   "metadata": {},
   "source": [
    "## Baseline Pretrained"
   ]
  },
  {
   "cell_type": "code",
   "execution_count": null,
   "id": "990fb312",
   "metadata": {},
   "outputs": [],
   "source": [
    "import os\n",
    "import numpy as np\n",
    "from gluoncv import model_zoo, data, utils\n",
    "from gluoncv.utils.metrics.voc_detection import VOC07MApMetric\n",
    "from mxnet import gluon\n",
    "import mxnet as mx\n",
    "\n",
    "# Load the pre-trained model\n",
    "net = model_zoo.get_model('ssd_512_resnet50_v1_voc', pretrained=True)\n",
    "\n",
    "# Load the validation data from VOC 2012 dataset\n",
    "val_dataset = data.VOCDetection(root='./VOCdevkit', splits=[(2012, 'val')])\n",
    "\n",
    "# Define the validation data loader\n",
    "val_loader = gluon.data.DataLoader(\n",
    "    val_dataset.transform(data.transforms.presets.ssd.SSDDefaultValTransform(512, 512)),\n",
    "    batch_size=1,\n",
    "    shuffle=False,\n",
    "    last_batch='keep')\n",
    "\n",
    "# Define the evaluation metric\n",
    "metric = VOC07MApMetric(iou_thresh=0.5, class_names=val_dataset.classes)\n",
    "\n",
    "# Run the validation loop\n",
    "for batch in val_loader:\n",
    "    data = gluon.utils.split_and_load(batch[0], ctx_list=[mx.cpu()], batch_axis=0)\n",
    "    label = gluon.utils.split_and_load(batch[1], ctx_list=[mx.cpu()], batch_axis=0)\n",
    "    det_bboxes = []\n",
    "    det_ids = []\n",
    "    det_scores = []\n",
    "    gt_bboxes = []\n",
    "    gt_ids = []\n",
    "    gt_difficults = []\n",
    "    for x, y in zip(data, label):\n",
    "        # get prediction results\n",
    "        ids, scores, bboxes = net(x)\n",
    "        det_ids.append(ids)\n",
    "        det_scores.append(scores)\n",
    "        # clip to image size\n",
    "        det_bboxes.append(bboxes.clip(0, batch[0].shape[2]))\n",
    "        # split ground truths\n",
    "        gt_ids.append(y.slice_axis(axis=-1, begin=4, end=5))\n",
    "        gt_bboxes.append(y.slice_axis(axis=-1, begin=0, end=4))\n",
    "        gt_difficults.append(y.slice_axis(axis=-1, begin=5, end=6) if y.shape[-1] > 5 else None)\n",
    "\n",
    "    # update metric\n",
    "    metric.update(\n",
    "        det_bboxes, det_ids, det_scores,\n",
    "        gt_bboxes, gt_ids, gt_difficults\n",
    "    )\n",
    "\n",
    "# Get the final mean Average Precision (mAP)\n",
    "print('The Mean Average Precision (mAP) on the VOC 2012 validation set is:', metric.get())\n"
   ]
  },
  {
   "cell_type": "markdown",
   "id": "eceb6d58",
   "metadata": {},
   "source": [
    "## Fine-tuned"
   ]
  },
  {
   "cell_type": "code",
   "execution_count": null,
   "id": "0a4ff643",
   "metadata": {},
   "outputs": [],
   "source": []
  }
 ],
 "metadata": {
  "kernelspec": {
   "display_name": "Python 3 (ipykernel)",
   "language": "python",
   "name": "python3"
  },
  "language_info": {
   "codemirror_mode": {
    "name": "ipython",
    "version": 3
   },
   "file_extension": ".py",
   "mimetype": "text/x-python",
   "name": "python",
   "nbconvert_exporter": "python",
   "pygments_lexer": "ipython3",
   "version": "3.10.11"
  }
 },
 "nbformat": 4,
 "nbformat_minor": 5
}
